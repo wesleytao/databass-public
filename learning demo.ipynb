{
 "cells": [
  {
   "cell_type": "code",
   "execution_count": 12,
   "metadata": {
    "collapsed": true
   },
   "outputs": [],
   "source": [
    "import re\n",
    "import math\n",
    "import numpy as np\n",
    "\n",
    "from parsimonious.grammar import Grammar\n",
    "from parsimonious.nodes import NodeVisitor\n",
    "\n",
    "class Expr:\n",
    "  def __init__(self, op, l, r):\n",
    "    self.op = op\n",
    "    self.l = l\n",
    "    self.r = r\n",
    "\n",
    "  def __str__(self):\n",
    "    return \"%s %s %s\" % (self.l, self.op, self.r)\n",
    "\n",
    "class Literal:\n",
    "  def __init__(self, v):\n",
    "    self.v = v\n",
    "\n",
    "  def __str__(self):\n",
    "    return str(self.v)\n",
    "\n",
    "grammar = Grammar(\n",
    "    r\"\"\"\n",
    "    exprstmt = ws expr ws (op ws op)?\n",
    "    expr     = biexpr / value\n",
    "    biexpr   = value ws op ws expr\n",
    "    op       = \"+\"\n",
    "    value    = ~\"\\d*\\.?\\d+\"i\n",
    "    ws       = ~\"\\s*\"i\n",
    "    wsp      = ~\"\\s+\"i\n",
    "    \"\"\")"
   ]
  },
  {
   "cell_type": "code",
   "execution_count": 27,
   "metadata": {},
   "outputs": [],
   "source": [
    "# help(Visitor)"
   ]
  },
  {
   "cell_type": "code",
   "execution_count": 60,
   "metadata": {},
   "outputs": [],
   "source": [
    "class Visitor(NodeVisitor):\n",
    "  grammar = grammar\n",
    "\n",
    "  def visit_expr(self, node, children):\n",
    "    print (children[0])\n",
    "    return children[0]\n",
    "\n",
    "  def visit_op(self, node, children):\n",
    "#     print (node.text)\n",
    "#     print(children)\n",
    "    return node.text\n",
    "\n",
    "  def visit_biexpr(self, node, children):\n",
    "    return Expr(children[2], children[0], children[-1])\n",
    "\n",
    "  def visit_value(self, node, children): \n",
    "    return Literal(float(node.text))\n",
    "\n",
    "  def generic_visit(self, node, children):\n",
    "    f = lambda v: v and (not isinstance(v, str) or v.strip())\n",
    "#     print(children)\n",
    "    children = list(filter(f, children))\n",
    "    if len(children) == 1: \n",
    "        return children[0]\n",
    "    return children"
   ]
  },
  {
   "cell_type": "code",
   "execution_count": 61,
   "metadata": {},
   "outputs": [
    {
     "name": "stdout",
     "output_type": "stream",
     "text": [
      "1.0\n",
      "1.0 + 1.0\n",
      "1.0 + 1.0\n"
     ]
    }
   ],
   "source": [
    "print (Visitor().parse(\"1 + 1\"))"
   ]
  },
  {
   "cell_type": "code",
   "execution_count": 62,
   "metadata": {},
   "outputs": [
    {
     "data": {
      "text/plain": [
       "0"
      ]
     },
     "execution_count": 62,
     "metadata": {},
     "output_type": "execute_result"
    }
   ],
   "source": [
    "len([])"
   ]
  }
 ],
 "metadata": {
  "kernelspec": {
   "display_name": "Python 3",
   "language": "python",
   "name": "python3"
  },
  "language_info": {
   "codemirror_mode": {
    "name": "ipython",
    "version": 3
   },
   "file_extension": ".py",
   "mimetype": "text/x-python",
   "name": "python",
   "nbconvert_exporter": "python",
   "pygments_lexer": "ipython3",
   "version": "3.6.1"
  }
 },
 "nbformat": 4,
 "nbformat_minor": 2
}
